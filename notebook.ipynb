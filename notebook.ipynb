{
 "cells": [
  {
   "cell_type": "markdown",
   "source": "## Collatz Sequence\nThe function will always end up at the number 1 regardless of the input integer. ",
   "metadata": {
    "cell_id": "e5d823b7-4d27-4cb7-9126-3b4275ae0842",
    "tags": [],
    "deepnote_cell_type": "markdown"
   }
  },
  {
   "cell_type": "code",
   "metadata": {
    "cell_id": "4df6dca1-ea92-45b6-9163-54dcae6c3f64",
    "tags": [],
    "deepnote_to_be_reexecuted": false,
    "source_hash": "ab091659",
    "execution_start": 1643436206421,
    "execution_millis": 4318,
    "deepnote_output_heights": [
     475
    ],
    "deepnote_cell_type": "code"
   },
   "source": "def collatz(number):\n    if number % 2 == 0:\n        return number // 2\n    else:\n        return 3 * number + 1\n\nwhile True:\n    try:\n        c = int(input())\n    except ValueError:\n        print(\"Enter a valid integer\")\n    break\n\nwhile c != 1:\n    c = collatz(c)\n    print(c)",
   "execution_count": null,
   "outputs": [
    {
     "name": "stdout",
     "text": "2638\n1319\n3958\n1979\n5938\n2969\n8908\n4454\n2227\n6682\n3341\n10024\n5012\n2506\n1253\n3760\n1880\n940\n470\n235\n706\n353\n1060\n530\n265\n796\n398\n199\n598\n299\n898\n449\n1348\n674\n337\n1012\n506\n253\n760\n380\n190\n95\n286\n143\n430\n215\n646\n323\n970\n485\n1456\n728\n364\n182\n91\n274\n137\n412\n206\n103\n310\n155\n466\n233\n700\n350\n175\n526\n263\n790\n395\n1186\n593\n1780\n890\n445\n1336\n668\n334\n167\n502\n251\n754\n377\n1132\n566\n283\n850\n425\n1276\n638\n319\n958\n479\n1438\n719\n2158\n1079\n3238\n1619\n4858\n2429\n7288\n3644\n1822\n911\n2734\n1367\n4102\n2051\n6154\n3077\n9232\n4616\n2308\n1154\n577\n1732\n866\n433\n1300\n650\n325\n976\n488\n244\n122\n61\n184\n92\n46\n23\n70\n35\n106\n53\n160\n80\n40\n20\n10\n5\n16\n8\n4\n2\n1\n",
     "output_type": "stream"
    }
   ]
  },
  {
   "cell_type": "markdown",
   "source": "---",
   "metadata": {
    "cell_id": "a4503972-85ee-499a-96da-cbbf1720d072",
    "tags": [],
    "deepnote_cell_type": "markdown"
   }
  },
  {
   "cell_type": "code",
   "metadata": {
    "cell_id": "c2b3c3ad-0843-44ee-9cc6-f4555dced1dc",
    "tags": [],
    "deepnote_to_be_reexecuted": false,
    "source_hash": "eede74f",
    "execution_start": 1643436194006,
    "execution_millis": 1840,
    "deepnote_output_heights": [
     null,
     194
    ],
    "deepnote_cell_type": "code"
   },
   "source": "import random, time\n\nsort_length = 1000\nnumbers = []\nordered = []\nfor i in range(sort_length):\n    numbers.append(i)\n    ordered.append(i)\n\nrandom.shuffle(numbers)\nfor j in range(len(numbers)):\n    print(str(numbers[j]) + ' ', end='')\nprint(' ')\n\nc = 0\nwhile True:\n    start = time.time()\n    c %= sort_length-1\n    if numbers[c] > numbers[c+1]:\n        swap = numbers[c+1]\n        numbers[c+1] = numbers[c]\n        numbers[c] = swap\n    '''\n    for j in range(len(numbers)):\n        print(str(numbers[j]) + ' ', end='')\n    print(' ')\n    '''\n    if numbers == ordered:\n        for j in range(len(numbers)):\n            print(str(numbers[j]) + ' ', end='')\n        print(\"\\nDone in \" + str(time.time()-start) + \" seconds\")\n        break\n    c += 1",
   "execution_count": null,
   "outputs": [
    {
     "name": "stdout",
     "text": "668 143 803 77 457 945 116 67 429 950 730 209 886 265 307 879 732 629 672 919 549 556 212 783 858 413 958 317 906 563 744 844 836 599 586 951 684 374 659 952 982 644 38 790 198 998 856 921 931 531 665 442 694 526 812 621 363 614 820 485 422 259 257 559 835 519 406 616 91 860 102 305 538 348 137 990 337 760 18 710 450 476 428 454 17 403 877 560 949 593 785 554 725 975 604 157 755 178 643 187 703 473 107 309 527 112 512 539 329 119 876 313 73 930 595 766 135 797 41 482 736 203 581 991 956 355 724 600 706 852 674 878 515 220 619 190 286 870 418 765 480 681 376 235 240 281 854 567 162 602 813 647 855 458 47 770 746 892 552 996 369 903 268 452 642 279 322 311 278 954 95 848 731 404 598 557 146 150 455 673 378 657 419 300 565 467 682 577 126 466 124 970 74 299 351 251 197 528 901 359 974 433 780 640 529 756 863 829 439 925 787 462 225 881 905 587 385 988 894 350 312 371 564 806 867 451 168 664 130 722 238 493 503 799 778 750 605 934 922 884 16 479 646 64 723 548 361 474 923 56 138 685 188 436 32 345 601 273 658 232 275 475 342 239 306 885 542 660 533 861 343 853 172 175 69 392 266 114 716 508 389 336 120 569 511 230 373 217 145 688 817 609 421 92 818 59 487 229 851 214 976 424 909 292 326 507 495 98 349 459 51 582 686 811 323 591 662 367 182 589 25 733 435 927 561 661 634 362 470 184 280 100 177 752 167 445 391 962 913 663 14 408 683 891 611 400 779 626 972 825 994 425 630 29 758 575 768 134 159 144 739 325 236 201 709 978 638 667 394 24 39 207 354 2 510 340 471 850 50 583 547 968 986 88 344 121 218 827 498 109 258 800 55 983 654 219 973 489 224 117 486 536 410 170 379 54 227 314 94 370 655 304 786 334 430 908 726 46 52 377 509 118 889 132 747 544 840 868 395 740 824 405 606 872 749 620 384 929 610 407 8 687 789 417 319 186 769 189 910 627 727 546 34 953 82 169 712 244 412 287 702 199 231 865 104 432 194 291 719 907 185 809 520 103 324 327 997 887 794 431 933 276 941 788 490 948 695 574 796 163 705 754 679 213 96 590 807 283 165 624 896 0 347 862 545 506 216 774 193 701 622 477 372 942 911 108 260 396 296 416 578 777 310 936 623 946 12 571 261 675 330 720 897 93 87 745 499 53 979 196 245 523 441 136 101 448 711 315 113 449 635 434 465 13 237 671 3 388 147 81 541 456 971 704 708 346 483 1 899 171 335 66 793 202 741 437 580 256 318 912 228 576 215 633 264 792 920 481 375 938 808 678 142 420 270 776 90 320 301 729 513 43 181 332 959 692 918 833 11 331 27 815 316 366 380 532 6 551 502 390 200 822 277 241 524 44 468 650 206 842 210 904 290 566 882 31 253 484 129 497 398 992 494 63 9 71 632 966 393 830 61 496 438 153 37 728 521 338 700 148 28 488 23 57 45 588 798 677 460 772 935 981 782 669 140 762 947 737 759 775 5 742 365 579 156 243 530 645 518 802 383 72 832 680 160 845 636 302 288 252 917 247 550 525 234 893 205 597 873 154 84 839 826 805 125 461 734 89 83 339 491 79 139 33 166 676 534 249 492 522 570 328 795 932 298 864 880 76 105 176 849 399 397 555 821 426 985 969 285 585 133 352 615 573 161 618 180 689 208 977 753 30 562 443 164 857 123 453 440 838 357 68 263 652 504 781 965 784 631 141 819 26 943 964 717 295 211 321 537 810 353 987 928 568 423 179 995 735 871 447 553 4 698 152 637 15 666 773 696 592 62 271 233 939 984 699 149 715 607 401 402 255 883 341 364 895 828 955 10 594 505 713 960 875 303 721 414 902 97 22 464 284 639 869 75 80 944 282 572 801 35 360 543 151 415 478 387 617 957 242 192 628 718 333 859 866 714 656 308 625 19 937 221 898 767 469 358 846 65 649 21 596 967 195 356 837 535 250 834 653 222 86 874 690 847 584 914 60 70 900 841 743 7 691 641 843 980 183 926 36 246 501 174 963 814 888 771 693 608 106 558 122 267 757 651 191 791 111 916 386 612 155 409 517 110 915 697 42 78 99 293 472 248 128 58 816 427 707 993 890 289 272 648 924 670 516 804 297 48 173 823 131 613 40 463 274 500 115 223 254 603 368 49 20 444 226 294 127 738 85 158 204 764 262 751 989 381 763 540 446 411 748 382 514 961 269 999 940 831 761  \n0 1 2 3 4 5 6 7 8 9 10 11 12 13 14 15 16 17 18 19 20 21 22 23 24 25 26 27 28 29 30 31 32 33 34 35 36 37 38 39 40 41 42 43 44 45 46 47 48 49 50 51 52 53 54 55 56 57 58 59 60 61 62 63 64 65 66 67 68 69 70 71 72 73 74 75 76 77 78 79 80 81 82 83 84 85 86 87 88 89 90 91 92 93 94 95 96 97 98 99 100 101 102 103 104 105 106 107 108 109 110 111 112 113 114 115 116 117 118 119 120 121 122 123 124 125 126 127 128 129 130 131 132 133 134 135 136 137 138 139 140 141 142 143 144 145 146 147 148 149 150 151 152 153 154 155 156 157 158 159 160 161 162 163 164 165 166 167 168 169 170 171 172 173 174 175 176 177 178 179 180 181 182 183 184 185 186 187 188 189 190 191 192 193 194 195 196 197 198 199 200 201 202 203 204 205 206 207 208 209 210 211 212 213 214 215 216 217 218 219 220 221 222 223 224 225 226 227 228 229 230 231 232 233 234 235 236 237 238 239 240 241 242 243 244 245 246 247 248 249 250 251 252 253 254 255 256 257 258 259 260 261 262 263 264 265 266 267 268 269 270 271 272 273 274 275 276 277 278 279 280 281 282 283 284 285 286 287 288 289 290 291 292 293 294 295 296 297 298 299 300 301 302 303 304 305 306 307 308 309 310 311 312 313 314 315 316 317 318 319 320 321 322 323 324 325 326 327 328 329 330 331 332 333 334 335 336 337 338 339 340 341 342 343 344 345 346 347 348 349 350 351 352 353 354 355 356 357 358 359 360 361 362 363 364 365 366 367 368 369 370 371 372 373 374 375 376 377 378 379 380 381 382 383 384 385 386 387 388 389 390 391 392 393 394 395 396 397 398 399 400 401 402 403 404 405 406 407 408 409 410 411 412 413 414 415 416 417 418 419 420 421 422 423 424 425 426 427 428 429 430 431 432 433 434 435 436 437 438 439 440 441 442 443 444 445 446 447 448 449 450 451 452 453 454 455 456 457 458 459 460 461 462 463 464 465 466 467 468 469 470 471 472 473 474 475 476 477 478 479 480 481 482 483 484 485 486 487 488 489 490 491 492 493 494 495 496 497 498 499 500 501 502 503 504 505 506 507 508 509 510 511 512 513 514 515 516 517 518 519 520 521 522 523 524 525 526 527 528 529 530 531 532 533 534 535 536 537 538 539 540 541 542 543 544 545 546 547 548 549 550 551 552 553 554 555 556 557 558 559 560 561 562 563 564 565 566 567 568 569 570 571 572 573 574 575 576 577 578 579 580 581 582 583 584 585 586 587 588 589 590 591 592 593 594 595 596 597 598 599 600 601 602 603 604 605 606 607 608 609 610 611 612 613 614 615 616 617 618 619 620 621 622 623 624 625 626 627 628 629 630 631 632 633 634 635 636 637 638 639 640 641 642 643 644 645 646 647 648 649 650 651 652 653 654 655 656 657 658 659 660 661 662 663 664 665 666 667 668 669 670 671 672 673 674 675 676 677 678 679 680 681 682 683 684 685 686 687 688 689 690 691 692 693 694 695 696 697 698 699 700 701 702 703 704 705 706 707 708 709 710 711 712 713 714 715 716 717 718 719 720 721 722 723 724 725 726 727 728 729 730 731 732 733 734 735 736 737 738 739 740 741 742 743 744 745 746 747 748 749 750 751 752 753 754 755 756 757 758 759 760 761 762 763 764 765 766 767 768 769 770 771 772 773 774 775 776 777 778 779 780 781 782 783 784 785 786 787 788 789 790 791 792 793 794 795 796 797 798 799 800 801 802 803 804 805 806 807 808 809 810 811 812 813 814 815 816 817 818 819 820 821 822 823 824 825 826 827 828 829 830 831 832 833 834 835 836 837 838 839 840 841 842 843 844 845 846 847 848 849 850 851 852 853 854 855 856 857 858 859 860 861 862 863 864 865 866 867 868 869 870 871 872 873 874 875 876 877 878 879 880 881 882 883 884 885 886 887 888 889 890 891 892 893 894 895 896 897 898 899 900 901 902 903 904 905 906 907 908 909 910 911 912 913 914 915 916 917 918 919 920 921 922 923 924 925 926 927 928 929 930 931 932 933 934 935 936 937 938 939 940 941 942 943 944 945 946 947 948 949 950 951 952 953 954 955 956 957 958 959 960 961 962 963 964 965 966 967 968 969 970 971 972 973 974 975 976 977 978 979 980 981 982 983 984 985 986 987 988 989 990 991 992 993 994 995 996 997 998 999 \nDone in 0.07721376419067383 seconds\n",
     "output_type": "stream"
    }
   ]
  },
  {
   "cell_type": "markdown",
   "source": "## Basic Sort\nChecks if the element c+1 is greater than or less than, swapping if necessary.",
   "metadata": {
    "cell_id": "2fda1eda-7e39-4078-b113-7331ab56778f",
    "tags": [],
    "deepnote_cell_type": "markdown"
   }
  },
  {
   "cell_type": "markdown",
   "source": "---",
   "metadata": {
    "cell_id": "962a5023-4710-4e54-8c60-8236c54f1ebe",
    "tags": [],
    "deepnote_cell_type": "markdown"
   }
  },
  {
   "cell_type": "code",
   "metadata": {
    "cell_id": "3c11d223-e82f-4116-b770-716e8a80a9bf",
    "tags": [],
    "deepnote_to_be_reexecuted": false,
    "source_hash": "a0a97af2",
    "execution_start": 1643583954937,
    "execution_millis": 1392,
    "deepnote_output_heights": [
     null,
     611
    ],
    "deepnote_cell_type": "code"
   },
   "source": "import random, time, copy, sys\nWIDTH = 60\nHEIGHT = 20\n\ntry:\n    # Create a list of list for the cells:\n    nextCells = []\n    for x in range(WIDTH):\n        column = [] # Create a new column\n        for y in range(HEIGHT):\n            if random.randint(0, 1) == 0:\n                column.append('#') # Add a living cell\n            else:\n                column.append(' ') # Add a dead cell\n        nextCells.append(column) # nextCells is a list of column lists\n    \n    while True: # Main program loop\n        print('\\n\\n\\n\\n\\n') # Seperate each step with newlines\n        currentCells = copy.deepcopy(nextCells)\n        # Print currentCells on the screen:\n        for y in range(HEIGHT):\n            for x in range(WIDTH):\n                print(currentCells[x][y], end='') # Print the # or space.\n            print() # Print a newline at the end of the row\n        # Calculate the next step's cells based on current step's cells:\n        for x in range(WIDTH):\n            for y in range(HEIGHT):\n                # Get neighoring coordinates:\n                # '% WIDTH' ensures leftCoord is always between 0 and WIDTH -1\n                leftCoord = (x - 1) % WIDTH\n                rightCoord = (x + 1) % WIDTH\n                aboveCoord = (y - 1) % HEIGHT\n                belowCoord = (y + 1) % HEIGHT\n                # Count number of living neighbors:\n                numNeighbors = 0\n                if currentCells[leftCoord][aboveCoord] == '#':\n                    numNeighbors += 1 # Top-left neighbor is alive\n                if currentCells[x][aboveCoord] == '#':\n                    numNeighbors += 1 # Top neighbor is alive\n                if currentCells[rightCoord][aboveCoord] == '#':\n                    numNeighbors += 1 # Top-right neighbor is alive\n                if currentCells[leftCoord][y] == '#':\n                    numNeighbors += 1 # Left neighbor is alive\n                if currentCells[leftCoord][belowCoord] == '#':\n                    numNeighbors += 1 # Bottom-left neighbor is alive\n                if currentCells[x][belowCoord] == '#':\n                    numNeighbors += 1 # Bottom neighbor is alive\n                if currentCells[rightCoord][belowCoord] == '#':\n                    numNeighbors += 1 # Bottom-right neighbor is alive\n                # Set cell based on Conway's Game of Life rules:\n                if currentCells[x][y] == '#' and (numNeighbors == 2 or \n    numNeighbors == 3):\n                    # Living cells with 2 or 3 neighbors stay alive:\n                    nextCells[x][y] = '#'\n    \n                elif currentCells[x][y] == ' ' and numNeighbors == 3:\n                    # Dead cells with 3 neighbors become alive:\n                    nextCells[x][y] = '#'\n                else:\n                    nextCells[x][y] = ' '\n        time.sleep(0.5) # Add a 1-second pause to reduce flickering\nexcept KeyboardInterrupt:\n    print(\"\\nQuitting simulation...\")",
   "execution_count": null,
   "outputs": [
    {
     "name": "stdout",
     "text": "\n\n\n\n\n\n#  #    ## ### #  # ## # #  ## #####  ##     #  ###### #####\n  #   #   # #     ##    ### #  #  ##  #   #   ##   #  # ### \n # # ### ####   ##   #### ###### # ### ##   #     ## # #### \n### ###### # ##  ### ###### ####### ####  # #    ### #   #  \n  ##    #  ##  ###    #  ## #  #### #  #  #  #    #### #####\n  # #####  ##  #### # #  ### # # ## #  #  ###   #   #### ## \n ##  # #  #  ####  ## ### #  ## ##   # ####   ##  ##  ## #  \n     #     #  ## # #  ##     ##  #  # #  # # ###     ###  # \n  #   # #  ##        # #  # # #    # #    #  # ###   #  ####\n##    #### #            ## # # ## # ## ##### #  #  # #   ## \n   ## ##       #   #   # # ## #    #####   ## ###  ###    ##\n# ##  ##  ####  # #   #      # # #  #### # ## #    # ###  ##\n # # # ##  # # #     # #########  ###  ### # # ## ## #### # \n##    #        ## ## ### #  # ##   ##  # #   #   ##    ## # \n##  # ## # # ## ## #  ## #   #    ##    ## # ## #   ## ## ##\n## # ## # ## ## ###   #  # #  #  # ####### #  ## #  ## ##   \n ##     # ##   # ##    ####### #  # ### ##    #  #  ## ##  #\n ###  # ### # # #   # # # #   #### # # ##  # ### #   #      \n## #     #   #   ##  ### # ### # #   ####  ## # # ## ##  #  \n ## ## ##  #   #### #### #### #  ### ## ## # #      #  ## ##\n\n\n\n\n\n\n# ############ #    #  #    # ###    ## ###  #    #####     \n# ### #         ####                 #  #      ##    #      \n   ##    #          ##                 ### # #       ###   #\n##  ##       ##   #  #                     ###   #   #     #\n# #       ##  ##    #               #  ## # ##   ##    #   #\n #  ###### #      ### # #   ##     #####  #####  #         #\n  ###  ## # ##     ## # ###### ##  # #####   ## #  #     #  \n ##  # #   # ## #  # #   # #     ## #####  # #   ##  #     #\n#     # #####         ##  # #   ## #   #     # ###  ##  #   \n#### ## ## ##         # ##    ##  #    ####  #     # ##     \n  ####   #             ####  #   # #          ###  #     #  \n# #  #     ###  #     #        #         # #     ##     ### \n   # # ##  # ###  ## # ######     #    # # # ## ######    # \n    ##    #  # # #####     #   #       #     #  ###       # \n    # #  #####     ###   #   # #  #         ## ## # ##      \n   # ## #    #     #  #    # ##  #    #     ### ##        # \n    ### #     #   ## # ##  ###   #          ##   ## #  ##   \n   #    #  ## # #    #         # ###       #### ## #   ##   \n#    ##    # ##   # #       #      # #    ##   ##  ##### ## \n # ##     ## ## #   #    #         ###  ## # ####      #    \n\nQuitting simulation...\n",
     "output_type": "stream"
    }
   ]
  },
  {
   "cell_type": "markdown",
   "source": "## Conway's Game of Life\nConway's Game of Life using 2D lists.",
   "metadata": {
    "cell_id": "65543f6e-8561-4c92-b79e-feabd19961cd",
    "tags": [],
    "deepnote_cell_type": "markdown"
   }
  },
  {
   "cell_type": "markdown",
   "source": "---",
   "metadata": {
    "cell_id": "6bf109f1-5c9d-4314-8bd2-1cd17682bc80",
    "tags": [],
    "deepnote_cell_type": "markdown"
   }
  },
  {
   "cell_type": "code",
   "metadata": {
    "cell_id": "78da4ca3-446d-49cc-8d3c-a305eadb0e6d",
    "tags": [],
    "deepnote_to_be_reexecuted": true,
    "source_hash": "43fd0f21",
    "execution_start": 1643426396947,
    "execution_millis": 2355,
    "deepnote_cell_type": "code"
   },
   "source": "import random\n\nnumberOfStreaks = 0\nfor experimentnumber in range(10000):\n    coinPolarity = []\n    for i in range(100):\n        if random.randint(0, 1) == 1:\n            val = 'H'\n        else:\n            val = 'T'\n        coinPolarity.append(val)\n\n    for c in range(100-1):\n        if coinPolarity[c:c+6] == list('HHHHHH') or coinPolarity[c:c+6] == list('TTTTTT'):\n            numberOfStreaks += 1\nprint('Chance of streak: %s%%' % (numberOfStreaks / 100000 * 100))  ",
   "execution_count": null,
   "outputs": [
    {
     "name": "stdout",
     "text": "Chance of streak: 29.709999999999997%\n",
     "output_type": "stream"
    }
   ]
  },
  {
   "cell_type": "markdown",
   "source": "## Heads or Tails\nProbability of landing on heads or tails 6 times in a row.",
   "metadata": {
    "cell_id": "f8f4b9bd-5a46-427a-b6c1-2d6e11cd80da",
    "tags": [],
    "deepnote_cell_type": "markdown"
   }
  },
  {
   "cell_type": "markdown",
   "source": "---",
   "metadata": {
    "cell_id": "520181b0-716a-4f20-b8c6-bf4ef378d58f",
    "tags": [],
    "deepnote_cell_type": "markdown"
   }
  },
  {
   "cell_type": "code",
   "metadata": {
    "cell_id": "70948a7f-6477-4670-ae2a-4a638324cce8",
    "tags": [],
    "deepnote_to_be_reexecuted": true,
    "source_hash": "6eee78a1",
    "execution_start": 1643428518034,
    "execution_millis": 6,
    "deepnote_cell_type": "code"
   },
   "source": "grid = [['.', '.', '.', '.', '.', '.'],\n        ['.', 'O', 'O', '.', '.', '.'],\n        ['O', 'O', 'O', 'O', '.', '.'],\n        ['O', 'O', 'O', 'O', 'O', '.'],\n        ['.', 'O', 'O', 'O', 'O', 'O'],\n        ['O', 'O', 'O', 'O', 'O', '.'],\n        ['O', 'O', 'O', 'O', '.', '.'],\n        ['.', 'O', 'O', '.', '.', '.'],\n        ['.', '.', '.', '.', '.', '.']]\n\nfor i in range(6):\n        for c in range(9):\n                print(grid[c][i], end='')\n        print(grid[c][i])",
   "execution_count": null,
   "outputs": [
    {
     "name": "stdout",
     "text": "..OO.OO...\n.OOOOOOO..\n.OOOOOOO..\n..OOOOO...\n...OOO....\n....O.....\n",
     "output_type": "stream"
    }
   ]
  },
  {
   "cell_type": "markdown",
   "source": "---",
   "metadata": {
    "cell_id": "607f7c6f-25f1-4998-9e9d-51dc766aab29",
    "tags": [],
    "deepnote_cell_type": "markdown"
   }
  },
  {
   "cell_type": "code",
   "metadata": {
    "cell_id": "74d11968-ee85-4c65-967f-c6bebaa803bc",
    "tags": [],
    "deepnote_to_be_reexecuted": false,
    "source_hash": "a05e6a1c",
    "execution_start": 1643436677443,
    "execution_millis": 39,
    "deepnote_output_heights": [
     33
    ],
    "deepnote_cell_type": "code"
   },
   "source": "import pprint\n\nmessage = 'the quick fox jumps over the lazy dog'\n\ncount = {}\nfor character in message:\n    count.setdefault(character, 0)\n    count[character] = count[character] + 1\npprint.pprint(count)",
   "execution_count": null,
   "outputs": [
    {
     "name": "stdout",
     "text": "{' ': 7,\n 'a': 1,\n 'c': 1,\n 'd': 1,\n 'e': 3,\n 'f': 1,\n 'g': 1,\n 'h': 2,\n 'i': 1,\n 'j': 1,\n 'k': 1,\n 'l': 1,\n 'm': 1,\n 'o': 3,\n 'p': 1,\n 'q': 1,\n 'r': 1,\n 's': 1,\n 't': 2,\n 'u': 2,\n 'v': 1,\n 'x': 1,\n 'y': 1,\n 'z': 1}\n",
     "output_type": "stream"
    }
   ]
  },
  {
   "cell_type": "markdown",
   "source": "## Frequency Analysis\nSimple letter frequency analyzer with dictionaries",
   "metadata": {
    "cell_id": "c32a3d26-a487-4679-a6d1-c2a0842544ec",
    "tags": [],
    "deepnote_cell_type": "markdown"
   }
  },
  {
   "cell_type": "markdown",
   "source": "---",
   "metadata": {
    "cell_id": "68655d2d-a6c2-4c10-9f97-4b84d7f7ece5",
    "tags": [],
    "deepnote_cell_type": "markdown"
   }
  },
  {
   "cell_type": "code",
   "metadata": {
    "cell_id": "bc420ea7-0a37-44cb-a219-116498a460f6",
    "tags": [],
    "deepnote_to_be_reexecuted": false,
    "source_hash": "2d87aeb6",
    "execution_start": 1643582657425,
    "execution_millis": 99,
    "deepnote_cell_type": "code"
   },
   "source": "stuff = {'rope': 1, 'torch': 6, 'gold coin': 42, 'dagger': 1, 'arrow': 12}\n\ndef displayInventory(inventory):\n    print(\"Inventory:\")\n    item_total = 0\n    for k, v in inventory.items():\n        print(str(inventory.get(k, 0)) + ' ' + k)\n        item_total += v\n    print(\"Total number of items: \" + str(item_total))\n\ndef addToInventory(inventory, addedItems):\n    for i in addedItems:\n        inventory.setdefault(i, 0)\n        inventory[i] += 1\n    return inventory\n\ninv = {'gold coin': 42, 'rope': 1}\ndragonLoot = ['gold coin', 'dagger', 'gold coin', 'gold coin', 'ruby']\ninv = addToInventory(inv, dragonLoot)\ndisplayInventory(inv)",
   "execution_count": null,
   "outputs": [
    {
     "name": "stdout",
     "text": "Inventory:\n45 gold coin\n1 rope\n1 dagger\n1 ruby\nTotal number of items: 48\n",
     "output_type": "stream"
    }
   ]
  },
  {
   "cell_type": "markdown",
   "source": "## Fantasy Game Inventory\nBasic game inventory visualizer and modifier with dictionaries",
   "metadata": {
    "cell_id": "ae49d8b1-7b6b-4ec9-8ec6-a74ec4484760",
    "tags": [],
    "deepnote_cell_type": "markdown"
   }
  },
  {
   "cell_type": "markdown",
   "source": "---",
   "metadata": {
    "cell_id": "d6bc494e-53c1-43b9-8996-b104a2d5ad2d",
    "tags": [],
    "deepnote_cell_type": "markdown"
   }
  },
  {
   "cell_type": "code",
   "source": "import matplotlib.pyplot as plt\nimport random, time\n\nnumbers = []\nordered = []\nsort_length = 100\nfor i in range(sort_length):\n    numbers.append(i)\n    ordered.append(i)\n\nrandom.shuffle(numbers)\n\nx_data = []\ny_data = []\nfor j in range(sort_length):\n    x_data.append(j)\n    y_data.append(numbers[j])\nplt.figure(1)\nplt.bar(x_data, y_data)\nplt.xticks(color='w')\nplt.yticks(color='w')\n\ndef sort(shuffle, ordered, c):\n    c %= sort_length-1\n    if shuffle[c] > shuffle[c+1]:\n        swap = shuffle[c+1]\n        shuffle[c+1] = shuffle[c]\n        shuffle[c] = swap\n\n    if shuffle == ordered:\n        return True\n    return shuffle\n\ndef plot(dataset):\n    x_data = []\n    y_data = []\n    for e in range(sort_length):\n        x_data.append(e)\n        y_data.append(numbers[e])\n    plt.figure(2)\n    plt.bar(x_data, y_data)\n    plt.xticks(color='w')\n    plt.yticks(color='w')\n\nl = 0\nwhile sort(numbers, ordered, l) != True:\n    l += 1\n\nplot(numbers) # print ordered data",
   "metadata": {
    "cell_id": "1a270b64-d985-4833-8af9-6f4857b153e1",
    "tags": [],
    "deepnote_to_be_reexecuted": false,
    "source_hash": "ab36e2c2",
    "execution_start": 1643738143285,
    "execution_millis": 884,
    "deepnote_output_heights": [
     250,
     250,
     250
    ],
    "deepnote_cell_type": "code"
   },
   "outputs": [
    {
     "data": {
      "text/plain": "<Figure size 432x288 with 1 Axes>",
      "image/png": "[encoded data removed]"
     },
     "metadata": {
      "needs_background": "dark",
      "image/png": {
       "width": 375,
       "height": 248
      }
     },
     "output_type": "display_data"
    },
    {
     "data": {
      "text/plain": "<Figure size 432x288 with 1 Axes>",
      "image/png": "[encoded data removed]"
     },
     "metadata": {
      "needs_background": "dark",
      "image/png": {
       "width": 375,
       "height": 248
      }
     },
     "output_type": "display_data"
    }
   ],
   "execution_count": 47
  },
  {
   "cell_type": "markdown",
   "source": "",
   "metadata": {
    "cell_id": "216b7f87-9d5e-47fd-aa14-17e0781d7f90",
    "tags": [],
    "deepnote_cell_type": "markdown"
   }
  },
  {
   "cell_type": "markdown",
   "source": "<a style='text-decoration:none;line-height:16px;display:flex;color:#5B5B62;padding:10px;justify-content:end;' href='https://deepnote.com?utm_source=created-in-deepnote-cell&projectId=9f84e2f7-0a97-4ea3-a178-8c4b3ca2a61a' target=\"_blank\">\n<img alt='Created in deepnote.com' style='display:inline;max-height:16px;margin:0px;margin-right:7.5px;' src='data:image/svg+xml;base64,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' > </img>\nCreated in <span style='font-weight:600;margin-left:4px;'>Deepnote</span></a>",
   "metadata": {
    "tags": [],
    "created_in_deepnote_cell": true,
    "deepnote_cell_type": "markdown"
   }
  }
 ],
 "nbformat": 4,
 "nbformat_minor": 2,
 "metadata": {
  "orig_nbformat": 2,
  "deepnote": {
   "is_reactive": false
  },
  "deepnote_notebook_id": "b5f10d56-44c7-47cb-b900-30e5ed5f9540",
  "deepnote_execution_queue": []
 }
}