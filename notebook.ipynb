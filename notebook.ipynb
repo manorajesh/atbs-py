{
 "cells": [
  {
   "cell_type": "markdown",
   "source": "## Collatz Sequence\nThe function will always end up at the number 1 regardless of the input integer. ",
   "metadata": {
    "cell_id": "e5d823b7-4d27-4cb7-9126-3b4275ae0842",
    "tags": [],
    "deepnote_cell_height": 108.39999389648438,
    "deepnote_cell_type": "markdown"
   }
  },
  {
   "cell_type": "code",
   "metadata": {
    "cell_id": "4df6dca1-ea92-45b6-9163-54dcae6c3f64",
    "tags": [],
    "deepnote_to_be_reexecuted": false,
    "source_hash": "ab091659",
    "execution_start": 1643436206421,
    "execution_millis": 4318,
    "deepnote_output_heights": [
     475
    ],
    "deepnote_cell_height": 971,
    "deepnote_cell_type": "code"
   },
   "source": "def collatz(number):\n    if number % 2 == 0:\n        return number // 2\n    else:\n        return 3 * number + 1\n\nwhile True:\n    try:\n        c = int(input())\n    except ValueError:\n        print(\"Enter a valid integer\")\n    break\n\nwhile c != 1:\n    c = collatz(c)\n    print(c)",
   "execution_count": null,
   "outputs": [
    {
     "name": "stdout",
     "text": "2638\n1319\n3958\n1979\n5938\n2969\n8908\n4454\n2227\n6682\n3341\n10024\n5012\n2506\n1253\n3760\n1880\n940\n470\n235\n706\n353\n1060\n530\n265\n796\n398\n199\n598\n299\n898\n449\n1348\n674\n337\n1012\n506\n253\n760\n380\n190\n95\n286\n143\n430\n215\n646\n323\n970\n485\n1456\n728\n364\n182\n91\n274\n137\n412\n206\n103\n310\n155\n466\n233\n700\n350\n175\n526\n263\n790\n395\n1186\n593\n1780\n890\n445\n1336\n668\n334\n167\n502\n251\n754\n377\n1132\n566\n283\n850\n425\n1276\n638\n319\n958\n479\n1438\n719\n2158\n1079\n3238\n1619\n4858\n2429\n7288\n3644\n1822\n911\n2734\n1367\n4102\n2051\n6154\n3077\n9232\n4616\n2308\n1154\n577\n1732\n866\n433\n1300\n650\n325\n976\n488\n244\n122\n61\n184\n92\n46\n23\n70\n35\n106\n53\n160\n80\n40\n20\n10\n5\n16\n8\n4\n2\n1\n",
     "output_type": "stream"
    }
   ]
  },
  {
   "cell_type": "markdown",
   "source": "---",
   "metadata": {
    "cell_id": "a4503972-85ee-499a-96da-cbbf1720d072",
    "tags": [],
    "deepnote_cell_height": 46,
    "deepnote_cell_type": "markdown"
   }
  },
  {
   "cell_type": "code",
   "metadata": {
    "cell_id": "c2b3c3ad-0843-44ee-9cc6-f4555dced1dc",
    "tags": [],
    "deepnote_to_be_reexecuted": false,
    "source_hash": "ce1c69ee",
    "execution_start": 1644424573056,
    "execution_millis": 1603,
    "deepnote_output_heights": [
     79,
     194
    ],
    "deepnote_cell_height": 701.5999755859375,
    "deepnote_cell_type": "code"
   },
   "source": "import random, time\n\nsort_length = 1000\nnumbers = []\nordered = []\nfor i in range(sort_length):\n    numbers.append(i)\n    ordered.append(i)\n\nrandom.shuffle(numbers)\nfor j in range(len(numbers)):\n    print(str(numbers[j]) + ' ', end='')\nprint(' ')\n\nc = 0\nwhile True:\n    start = time.time()\n    c %= sort_length-1\n    if numbers[c] > numbers[c+1]:\n        numbers[c],numbers[c+1] = numbers[c+1], numbers[c]\n    '''\n    for j in range(len(numbers)):\n        print(str(numbers[j]) + ' ', end='')\n    print(' ')\n    '''\n    if numbers == ordered:\n        for j in range(len(numbers)):\n            print(str(numbers[j]) + ' ', end='')\n        print(\"\\nDone in \" + str(time.time()-start) + \" seconds\")\n        break\n    c += 1",
   "execution_count": null,
   "outputs": [
    {
     "name": "stdout",
     "text": "72 135 997 127 928 174 97 347 851 178 444 454 202 827 739 300 75 311 318 491 563 472 319 876 95 149 956 874 240 402 440 166 227 530 244 845 821 580 443 906 525 521 787 647 10 157 175 18 994 403 322 482 275 243 422 570 226 239 198 791 216 379 539 552 368 690 831 11 148 671 611 656 818 167 726 391 425 142 762 894 860 309 651 673 756 432 47 269 727 294 535 852 551 316 36 290 649 518 823 57 892 950 358 98 261 866 442 78 527 974 3 936 320 170 292 88 538 171 404 661 250 383 632 435 237 262 30 373 828 902 217 731 410 289 310 700 537 942 710 220 254 499 546 6 849 336 150 545 105 83 755 558 935 870 972 659 494 534 129 722 896 104 0 439 124 433 744 41 773 832 266 341 284 591 268 757 765 769 376 566 504 405 969 61 542 85 889 361 272 372 989 549 830 559 90 204 761 550 770 197 480 221 189 573 812 208 380 414 993 53 740 948 360 112 466 771 587 729 822 430 777 146 235 723 359 605 5 396 846 721 471 381 17 705 847 417 968 781 630 131 464 555 428 426 264 536 601 613 265 569 636 618 837 816 349 70 853 503 33 416 878 447 161 484 234 213 35 702 984 453 19 759 693 628 724 473 883 40 885 63 760 691 1 463 25 49 187 820 865 929 138 675 528 694 27 810 69 653 869 540 954 624 258 718 915 462 14 429 165 592 669 94 419 409 720 26 934 59 836 324 980 692 32 798 191 793 854 519 340 327 568 39 121 904 461 488 507 255 978 944 533 867 224 186 964 87 514 296 16 29 332 912 113 331 223 834 664 37 333 293 177 153 779 273 50 232 407 304 158 886 251 363 872 663 206 2 556 959 971 967 481 7 783 55 901 589 155 48 510 751 987 897 247 888 106 623 317 172 370 231 844 81 385 708 214 68 338 805 314 908 880 412 102 815 792 92 13 910 665 118 643 644 900 627 899 682 553 456 249 513 857 786 992 945 737 981 183 133 990 961 182 629 45 930 335 991 574 939 986 743 263 101 285 794 840 82 246 941 648 452 257 423 108 544 328 441 330 115 468 977 130 180 31 467 776 401 501 460 323 295 267 298 864 966 891 672 811 985 374 196 802 850 242 337 804 795 626 143 329 260 819 270 451 506 841 679 325 24 9 767 856 353 248 522 863 107 144 271 916 387 970 38 389 645 703 145 758 509 56 110 474 486 725 608 658 228 790 687 114 485 742 526 287 917 378 581 949 524 445 354 502 988 119 799 698 238 252 593 43 62 96 868 932 42 449 152 738 797 523 667 711 548 699 953 713 590 489 801 800 74 695 814 490 683 195 475 696 572 420 508 839 893 639 763 686 998 259 913 277 459 920 898 925 564 160 579 122 371 276 752 584 520 278 64 450 398 596 650 365 940 567 128 833 637 117 103 201 54 662 58 803 642 607 147 395 498 457 594 973 67 493 582 983 455 681 288 688 470 93 34 236 281 109 871 995 230 342 918 706 245 356 789 184 641 185 302 938 299 194 963 199 209 392 52 375 437 89 677 585 926 411 684 22 344 685 890 91 369 4 303 719 807 754 181 350 577 712 606 875 621 780 622 424 843 631 308 635 65 749 571 657 164 561 219 923 384 126 614 678 123 922 367 100 835 817 348 750 575 156 125 192 307 697 764 531 446 666 747 315 957 162 241 604 733 111 465 529 116 253 280 554 339 979 487 12 225 173 746 205 825 947 597 427 274 609 976 975 532 842 586 602 352 458 211 120 541 562 689 291 476 46 543 438 745 911 565 364 937 286 982 796 256 670 884 859 748 151 297 21 999 877 366 965 8 600 203 914 951 924 826 51 483 784 397 962 701 716 634 907 434 312 136 617 931 654 66 862 676 952 704 492 141 652 960 766 357 60 782 321 517 20 418 394 616 707 139 633 576 557 218 668 210 640 346 431 996 413 612 598 946 393 873 887 343 625 193 809 588 306 334 505 955 774 188 560 734 282 813 824 408 500 215 79 382 903 603 547 808 674 861 71 169 23 728 355 511 785 736 15 905 599 421 388 345 714 768 516 229 207 80 362 610 159 882 655 448 351 848 921 279 44 76 406 200 212 715 469 578 399 620 496 390 132 958 497 615 478 86 583 753 400 77 283 638 881 838 479 154 137 99 436 619 140 730 233 512 477 895 646 806 788 778 879 735 84 943 73 176 717 134 595 660 709 415 305 28 927 222 326 732 858 919 313 741 775 377 301 386 909 829 179 933 515 855 772 680 495 163 168 190  \n0 1 2 3 4 5 6 7 8 9 10 11 12 13 14 15 16 17 18 19 20 21 22 23 24 25 26 27 28 29 30 31 32 33 34 35 36 37 38 39 40 41 42 43 44 45 46 47 48 49 50 51 52 53 54 55 56 57 58 59 60 61 62 63 64 65 66 67 68 69 70 71 72 73 74 75 76 77 78 79 80 81 82 83 84 85 86 87 88 89 90 91 92 93 94 95 96 97 98 99 100 101 102 103 104 105 106 107 108 109 110 111 112 113 114 115 116 117 118 119 120 121 122 123 124 125 126 127 128 129 130 131 132 133 134 135 136 137 138 139 140 141 142 143 144 145 146 147 148 149 150 151 152 153 154 155 156 157 158 159 160 161 162 163 164 165 166 167 168 169 170 171 172 173 174 175 176 177 178 179 180 181 182 183 184 185 186 187 188 189 190 191 192 193 194 195 196 197 198 199 200 201 202 203 204 205 206 207 208 209 210 211 212 213 214 215 216 217 218 219 220 221 222 223 224 225 226 227 228 229 230 231 232 233 234 235 236 237 238 239 240 241 242 243 244 245 246 247 248 249 250 251 252 253 254 255 256 257 258 259 260 261 262 263 264 265 266 267 268 269 270 271 272 273 274 275 276 277 278 279 280 281 282 283 284 285 286 287 288 289 290 291 292 293 294 295 296 297 298 299 300 301 302 303 304 305 306 307 308 309 310 311 312 313 314 315 316 317 318 319 320 321 322 323 324 325 326 327 328 329 330 331 332 333 334 335 336 337 338 339 340 341 342 343 344 345 346 347 348 349 350 351 352 353 354 355 356 357 358 359 360 361 362 363 364 365 366 367 368 369 370 371 372 373 374 375 376 377 378 379 380 381 382 383 384 385 386 387 388 389 390 391 392 393 394 395 396 397 398 399 400 401 402 403 404 405 406 407 408 409 410 411 412 413 414 415 416 417 418 419 420 421 422 423 424 425 426 427 428 429 430 431 432 433 434 435 436 437 438 439 440 441 442 443 444 445 446 447 448 449 450 451 452 453 454 455 456 457 458 459 460 461 462 463 464 465 466 467 468 469 470 471 472 473 474 475 476 477 478 479 480 481 482 483 484 485 486 487 488 489 490 491 492 493 494 495 496 497 498 499 500 501 502 503 504 505 506 507 508 509 510 511 512 513 514 515 516 517 518 519 520 521 522 523 524 525 526 527 528 529 530 531 532 533 534 535 536 537 538 539 540 541 542 543 544 545 546 547 548 549 550 551 552 553 554 555 556 557 558 559 560 561 562 563 564 565 566 567 568 569 570 571 572 573 574 575 576 577 578 579 580 581 582 583 584 585 586 587 588 589 590 591 592 593 594 595 596 597 598 599 600 601 602 603 604 605 606 607 608 609 610 611 612 613 614 615 616 617 618 619 620 621 622 623 624 625 626 627 628 629 630 631 632 633 634 635 636 637 638 639 640 641 642 643 644 645 646 647 648 649 650 651 652 653 654 655 656 657 658 659 660 661 662 663 664 665 666 667 668 669 670 671 672 673 674 675 676 677 678 679 680 681 682 683 684 685 686 687 688 689 690 691 692 693 694 695 696 697 698 699 700 701 702 703 704 705 706 707 708 709 710 711 712 713 714 715 716 717 718 719 720 721 722 723 724 725 726 727 728 729 730 731 732 733 734 735 736 737 738 739 740 741 742 743 744 745 746 747 748 749 750 751 752 753 754 755 756 757 758 759 760 761 762 763 764 765 766 767 768 769 770 771 772 773 774 775 776 777 778 779 780 781 782 783 784 785 786 787 788 789 790 791 792 793 794 795 796 797 798 799 800 801 802 803 804 805 806 807 808 809 810 811 812 813 814 815 816 817 818 819 820 821 822 823 824 825 826 827 828 829 830 831 832 833 834 835 836 837 838 839 840 841 842 843 844 845 846 847 848 849 850 851 852 853 854 855 856 857 858 859 860 861 862 863 864 865 866 867 868 869 870 871 872 873 874 875 876 877 878 879 880 881 882 883 884 885 886 887 888 889 890 891 892 893 894 895 896 897 898 899 900 901 902 903 904 905 906 907 908 909 910 911 912 913 914 915 916 917 918 919 920 921 922 923 924 925 926 927 928 929 930 931 932 933 934 935 936 937 938 939 940 941 942 943 944 945 946 947 948 949 950 951 952 953 954 955 956 957 958 959 960 961 962 963 964 965 966 967 968 969 970 971 972 973 974 975 976 977 978 979 980 981 982 983 984 985 986 987 988 989 990 991 992 993 994 995 996 997 998 999 \nDone in 0.19563722610473633 seconds\n",
     "output_type": "stream"
    }
   ]
  },
  {
   "cell_type": "markdown",
   "source": "## Basic Sort\nChecks if the element c+1 is greater than or less than, swapping if necessary.",
   "metadata": {
    "cell_id": "2fda1eda-7e39-4078-b113-7331ab56778f",
    "tags": [],
    "deepnote_cell_height": 108.39999389648438,
    "deepnote_cell_type": "markdown"
   }
  },
  {
   "cell_type": "markdown",
   "source": "---",
   "metadata": {
    "cell_id": "962a5023-4710-4e54-8c60-8236c54f1ebe",
    "tags": [],
    "deepnote_cell_height": 46,
    "deepnote_cell_type": "markdown"
   }
  },
  {
   "cell_type": "code",
   "metadata": {
    "cell_id": "3c11d223-e82f-4116-b770-716e8a80a9bf",
    "tags": [],
    "deepnote_to_be_reexecuted": false,
    "source_hash": "a0a97af2",
    "execution_start": 1643583954937,
    "execution_millis": 1392,
    "deepnote_output_heights": [
     null,
     611
    ],
    "deepnote_cell_height": 1817,
    "deepnote_cell_type": "code"
   },
   "source": "import random, time, copy, sys\nWIDTH = 60\nHEIGHT = 20\n\ntry:\n    # Create a list of list for the cells:\n    nextCells = []\n    for x in range(WIDTH):\n        column = [] # Create a new column\n        for y in range(HEIGHT):\n            if random.randint(0, 1) == 0:\n                column.append('#') # Add a living cell\n            else:\n                column.append(' ') # Add a dead cell\n        nextCells.append(column) # nextCells is a list of column lists\n    \n    while True: # Main program loop\n        print('\\n\\n\\n\\n\\n') # Seperate each step with newlines\n        currentCells = copy.deepcopy(nextCells)\n        # Print currentCells on the screen:\n        for y in range(HEIGHT):\n            for x in range(WIDTH):\n                print(currentCells[x][y], end='') # Print the # or space.\n            print() # Print a newline at the end of the row\n        # Calculate the next step's cells based on current step's cells:\n        for x in range(WIDTH):\n            for y in range(HEIGHT):\n                # Get neighoring coordinates:\n                # '% WIDTH' ensures leftCoord is always between 0 and WIDTH -1\n                leftCoord = (x - 1) % WIDTH\n                rightCoord = (x + 1) % WIDTH\n                aboveCoord = (y - 1) % HEIGHT\n                belowCoord = (y + 1) % HEIGHT\n                # Count number of living neighbors:\n                numNeighbors = 0\n                if currentCells[leftCoord][aboveCoord] == '#':\n                    numNeighbors += 1 # Top-left neighbor is alive\n                if currentCells[x][aboveCoord] == '#':\n                    numNeighbors += 1 # Top neighbor is alive\n                if currentCells[rightCoord][aboveCoord] == '#':\n                    numNeighbors += 1 # Top-right neighbor is alive\n                if currentCells[leftCoord][y] == '#':\n                    numNeighbors += 1 # Left neighbor is alive\n                if currentCells[leftCoord][belowCoord] == '#':\n                    numNeighbors += 1 # Bottom-left neighbor is alive\n                if currentCells[x][belowCoord] == '#':\n                    numNeighbors += 1 # Bottom neighbor is alive\n                if currentCells[rightCoord][belowCoord] == '#':\n                    numNeighbors += 1 # Bottom-right neighbor is alive\n                # Set cell based on Conway's Game of Life rules:\n                if currentCells[x][y] == '#' and (numNeighbors == 2 or \n    numNeighbors == 3):\n                    # Living cells with 2 or 3 neighbors stay alive:\n                    nextCells[x][y] = '#'\n    \n                elif currentCells[x][y] == ' ' and numNeighbors == 3:\n                    # Dead cells with 3 neighbors become alive:\n                    nextCells[x][y] = '#'\n                else:\n                    nextCells[x][y] = ' '\n        time.sleep(0.5) # Add a 1-second pause to reduce flickering\nexcept KeyboardInterrupt:\n    print(\"\\nQuitting simulation...\")",
   "execution_count": null,
   "outputs": [
    {
     "name": "stdout",
     "text": "\n\n\n\n\n\n#  #    ## ### #  # ## # #  ## #####  ##     #  ###### #####\n  #   #   # #     ##    ### #  #  ##  #   #   ##   #  # ### \n # # ### ####   ##   #### ###### # ### ##   #     ## # #### \n### ###### # ##  ### ###### ####### ####  # #    ### #   #  \n  ##    #  ##  ###    #  ## #  #### #  #  #  #    #### #####\n  # #####  ##  #### # #  ### # # ## #  #  ###   #   #### ## \n ##  # #  #  ####  ## ### #  ## ##   # ####   ##  ##  ## #  \n     #     #  ## # #  ##     ##  #  # #  # # ###     ###  # \n  #   # #  ##        # #  # # #    # #    #  # ###   #  ####\n##    #### #            ## # # ## # ## ##### #  #  # #   ## \n   ## ##       #   #   # # ## #    #####   ## ###  ###    ##\n# ##  ##  ####  # #   #      # # #  #### # ## #    # ###  ##\n # # # ##  # # #     # #########  ###  ### # # ## ## #### # \n##    #        ## ## ### #  # ##   ##  # #   #   ##    ## # \n##  # ## # # ## ## #  ## #   #    ##    ## # ## #   ## ## ##\n## # ## # ## ## ###   #  # #  #  # ####### #  ## #  ## ##   \n ##     # ##   # ##    ####### #  # ### ##    #  #  ## ##  #\n ###  # ### # # #   # # # #   #### # # ##  # ### #   #      \n## #     #   #   ##  ### # ### # #   ####  ## # # ## ##  #  \n ## ## ##  #   #### #### #### #  ### ## ## # #      #  ## ##\n\n\n\n\n\n\n# ############ #    #  #    # ###    ## ###  #    #####     \n# ### #         ####                 #  #      ##    #      \n   ##    #          ##                 ### # #       ###   #\n##  ##       ##   #  #                     ###   #   #     #\n# #       ##  ##    #               #  ## # ##   ##    #   #\n #  ###### #      ### # #   ##     #####  #####  #         #\n  ###  ## # ##     ## # ###### ##  # #####   ## #  #     #  \n ##  # #   # ## #  # #   # #     ## #####  # #   ##  #     #\n#     # #####         ##  # #   ## #   #     # ###  ##  #   \n#### ## ## ##         # ##    ##  #    ####  #     # ##     \n  ####   #             ####  #   # #          ###  #     #  \n# #  #     ###  #     #        #         # #     ##     ### \n   # # ##  # ###  ## # ######     #    # # # ## ######    # \n    ##    #  # # #####     #   #       #     #  ###       # \n    # #  #####     ###   #   # #  #         ## ## # ##      \n   # ## #    #     #  #    # ##  #    #     ### ##        # \n    ### #     #   ## # ##  ###   #          ##   ## #  ##   \n   #    #  ## # #    #         # ###       #### ## #   ##   \n#    ##    # ##   # #       #      # #    ##   ##  ##### ## \n # ##     ## ## #   #    #         ###  ## # ####      #    \n\nQuitting simulation...\n",
     "output_type": "stream"
    }
   ]
  },
  {
   "cell_type": "markdown",
   "source": "## Conway's Game of Life\nConway's Game of Life using 2D lists.",
   "metadata": {
    "cell_id": "65543f6e-8561-4c92-b79e-feabd19961cd",
    "tags": [],
    "deepnote_cell_height": 108.39999389648438,
    "deepnote_cell_type": "markdown"
   }
  },
  {
   "cell_type": "markdown",
   "source": "---",
   "metadata": {
    "cell_id": "6bf109f1-5c9d-4314-8bd2-1cd17682bc80",
    "tags": [],
    "deepnote_cell_height": 46,
    "deepnote_cell_type": "markdown"
   }
  },
  {
   "cell_type": "code",
   "metadata": {
    "cell_id": "78da4ca3-446d-49cc-8d3c-a305eadb0e6d",
    "tags": [],
    "deepnote_to_be_reexecuted": true,
    "source_hash": "43fd0f21",
    "execution_start": 1643426396947,
    "execution_millis": 2355,
    "deepnote_cell_height": 381.20001220703125,
    "deepnote_cell_type": "code"
   },
   "source": "import random\n\nnumberOfStreaks = 0\nfor experimentnumber in range(10000):\n    coinPolarity = []\n    for i in range(100):\n        if random.randint(0, 1) == 1:\n            val = 'H'\n        else:\n            val = 'T'\n        coinPolarity.append(val)\n\n    for c in range(100-1):\n        if coinPolarity[c:c+6] == list('HHHHHH') or coinPolarity[c:c+6] == list('TTTTTT'):\n            numberOfStreaks += 1\nprint('Chance of streak: %s%%' % (numberOfStreaks / 100000 * 100))  ",
   "execution_count": null,
   "outputs": [
    {
     "name": "stdout",
     "text": "Chance of streak: 29.709999999999997%\n",
     "output_type": "stream"
    }
   ]
  },
  {
   "cell_type": "markdown",
   "source": "## Heads or Tails\nProbability of landing on heads or tails 6 times in a row.",
   "metadata": {
    "cell_id": "f8f4b9bd-5a46-427a-b6c1-2d6e11cd80da",
    "tags": [],
    "deepnote_cell_height": 108.39999389648438,
    "deepnote_cell_type": "markdown"
   }
  },
  {
   "cell_type": "markdown",
   "source": "---",
   "metadata": {
    "cell_id": "520181b0-716a-4f20-b8c6-bf4ef378d58f",
    "tags": [],
    "deepnote_cell_height": 46,
    "deepnote_cell_type": "markdown"
   }
  },
  {
   "cell_type": "code",
   "metadata": {
    "cell_id": "70948a7f-6477-4670-ae2a-4a638324cce8",
    "tags": [],
    "deepnote_to_be_reexecuted": true,
    "source_hash": "6eee78a1",
    "execution_start": 1643428518034,
    "execution_millis": 6,
    "deepnote_cell_height": 441.20001220703125,
    "deepnote_cell_type": "code"
   },
   "source": "grid = [['.', '.', '.', '.', '.', '.'],\n        ['.', 'O', 'O', '.', '.', '.'],\n        ['O', 'O', 'O', 'O', '.', '.'],\n        ['O', 'O', 'O', 'O', 'O', '.'],\n        ['.', 'O', 'O', 'O', 'O', 'O'],\n        ['O', 'O', 'O', 'O', 'O', '.'],\n        ['O', 'O', 'O', 'O', '.', '.'],\n        ['.', 'O', 'O', '.', '.', '.'],\n        ['.', '.', '.', '.', '.', '.']]\n\nfor i in range(6):\n        for c in range(9):\n                print(grid[c][i], end='')\n        print(grid[c][i])",
   "execution_count": null,
   "outputs": [
    {
     "name": "stdout",
     "text": "..OO.OO...\n.OOOOOOO..\n.OOOOOOO..\n..OOOOO...\n...OOO....\n....O.....\n",
     "output_type": "stream"
    }
   ]
  },
  {
   "cell_type": "markdown",
   "source": "---",
   "metadata": {
    "cell_id": "607f7c6f-25f1-4998-9e9d-51dc766aab29",
    "tags": [],
    "deepnote_cell_height": 46,
    "deepnote_cell_type": "markdown"
   }
  },
  {
   "cell_type": "code",
   "metadata": {
    "cell_id": "74d11968-ee85-4c65-967f-c6bebaa803bc",
    "tags": [],
    "deepnote_to_be_reexecuted": false,
    "source_hash": "a05e6a1c",
    "execution_start": 1643436677443,
    "execution_millis": 39,
    "deepnote_output_heights": [
     33
    ],
    "deepnote_cell_height": 696.7999877929688,
    "deepnote_cell_type": "code"
   },
   "source": "import pprint\n\nmessage = 'the quick fox jumps over the lazy dog'\n\ncount = {}\nfor character in message:\n    count.setdefault(character, 0)\n    count[character] = count[character] + 1\npprint.pprint(count)",
   "execution_count": null,
   "outputs": [
    {
     "name": "stdout",
     "text": "{' ': 7,\n 'a': 1,\n 'c': 1,\n 'd': 1,\n 'e': 3,\n 'f': 1,\n 'g': 1,\n 'h': 2,\n 'i': 1,\n 'j': 1,\n 'k': 1,\n 'l': 1,\n 'm': 1,\n 'o': 3,\n 'p': 1,\n 'q': 1,\n 'r': 1,\n 's': 1,\n 't': 2,\n 'u': 2,\n 'v': 1,\n 'x': 1,\n 'y': 1,\n 'z': 1}\n",
     "output_type": "stream"
    }
   ]
  },
  {
   "cell_type": "markdown",
   "source": "## Frequency Analysis\nSimple letter frequency analyzer with dictionaries",
   "metadata": {
    "cell_id": "c32a3d26-a487-4679-a6d1-c2a0842544ec",
    "tags": [],
    "deepnote_cell_height": 108.39999389648438,
    "deepnote_cell_type": "markdown"
   }
  },
  {
   "cell_type": "markdown",
   "source": "---",
   "metadata": {
    "cell_id": "68655d2d-a6c2-4c10-9f97-4b84d7f7ece5",
    "tags": [],
    "deepnote_cell_height": 46,
    "deepnote_cell_type": "markdown"
   }
  },
  {
   "cell_type": "code",
   "metadata": {
    "cell_id": "bc420ea7-0a37-44cb-a219-116498a460f6",
    "tags": [],
    "deepnote_to_be_reexecuted": false,
    "source_hash": "2d87aeb6",
    "execution_start": 1643582657425,
    "execution_millis": 99,
    "deepnote_cell_height": 549.2000122070312,
    "deepnote_cell_type": "code"
   },
   "source": "stuff = {'rope': 1, 'torch': 6, 'gold coin': 42, 'dagger': 1, 'arrow': 12}\n\ndef displayInventory(inventory):\n    print(\"Inventory:\")\n    item_total = 0\n    for k, v in inventory.items():\n        print(str(inventory.get(k, 0)) + ' ' + k)\n        item_total += v\n    print(\"Total number of items: \" + str(item_total))\n\ndef addToInventory(inventory, addedItems):\n    for i in addedItems:\n        inventory.setdefault(i, 0)\n        inventory[i] += 1\n    return inventory\n\ninv = {'gold coin': 42, 'rope': 1}\ndragonLoot = ['gold coin', 'dagger', 'gold coin', 'gold coin', 'ruby']\ninv = addToInventory(inv, dragonLoot)\ndisplayInventory(inv)",
   "execution_count": null,
   "outputs": [
    {
     "name": "stdout",
     "text": "Inventory:\n45 gold coin\n1 rope\n1 dagger\n1 ruby\nTotal number of items: 48\n",
     "output_type": "stream"
    }
   ]
  },
  {
   "cell_type": "markdown",
   "source": "## Fantasy Game Inventory\nBasic game inventory visualizer and modifier with dictionaries",
   "metadata": {
    "cell_id": "ae49d8b1-7b6b-4ec9-8ec6-a74ec4484760",
    "tags": [],
    "deepnote_cell_height": 108.39999389648438,
    "deepnote_cell_type": "markdown"
   }
  },
  {
   "cell_type": "markdown",
   "source": "---",
   "metadata": {
    "cell_id": "d6bc494e-53c1-43b9-8996-b104a2d5ad2d",
    "tags": [],
    "deepnote_cell_height": 46,
    "deepnote_cell_type": "markdown"
   }
  },
  {
   "cell_type": "code",
   "metadata": {
    "cell_id": "1a270b64-d985-4833-8af9-6f4857b153e1",
    "tags": [],
    "deepnote_to_be_reexecuted": false,
    "source_hash": "a249426e",
    "execution_start": 1643757103844,
    "execution_millis": 118480,
    "deepnote_output_heights": [
     250,
     250
    ],
    "deepnote_cell_height": 1474,
    "deepnote_cell_type": "code"
   },
   "source": "import matplotlib.pyplot as plt\nimport random, time\n\nnumbers = []\nordered = []\nsort_length = 10000\nfor i in range(sort_length):\n    numbers.append(i)\n    ordered.append(i)\n\nrandom.shuffle(numbers)\nx_data = []\ny_data = []\nfor j in range(sort_length):\n    x_data.append(j)\n    y_data.append(numbers[j])\nplt.figure(1)\nplt.bar(x_data, y_data)\nplt.xticks(color='w')\nplt.yticks(color='w')\n\ndef sort(shuffle, ordered, c):\n    c %= sort_length-1\n    if shuffle[c] > shuffle[c+1]:\n        swap = shuffle[c+1]\n        shuffle[c+1] = shuffle[c]\n        shuffle[c] = swap\n\n    if shuffle == ordered:\n        return True\n    return shuffle\n\ndef plot(dataset):\n    x_data = []\n    y_data = []\n    for e in range(sort_length):\n        x_data.append(e)\n        y_data.append(numbers[e])\n    plt.figure(2)\n    plt.bar(x_data, y_data)\n    plt.xticks(color='w')\n    plt.yticks(color='w')\n\nl = 0\nwhile sort(numbers, ordered, l) != True:\n    l += 1\n\nplot(numbers) # print ordered data",
   "execution_count": null,
   "outputs": [
    {
     "data": {
      "text/plain": "<Figure size 432x288 with 1 Axes>",
      "image/png": "[encoded data removed]"
     },
     "metadata": {
      "needs_background": "dark",
      "image/png": {
       "width": 388,
       "height": 248
      }
     },
     "output_type": "display_data"
    },
    {
     "data": {
      "text/plain": "<Figure size 432x288 with 1 Axes>",
      "image/png": "[encoded data removed]"
     },
     "metadata": {
      "needs_background": "dark",
      "image/png": {
       "width": 388,
       "height": 248
      }
     },
     "output_type": "display_data"
    }
   ]
  },
  {
   "cell_type": "markdown",
   "source": "",
   "metadata": {
    "cell_id": "216b7f87-9d5e-47fd-aa14-17e0781d7f90",
    "tags": [],
    "deepnote_cell_height": 46,
    "deepnote_cell_type": "markdown"
   }
  },
  {
   "cell_type": "markdown",
   "source": "## Matplotlib Visualizer\nPlotting Basic Sort with a bar graph using matplotlib",
   "metadata": {
    "cell_id": "a0cd363d-906d-40b2-a60b-3823e70fc9a5",
    "tags": [],
    "deepnote_cell_height": 108.39999389648438,
    "deepnote_cell_type": "markdown"
   }
  },
  {
   "cell_type": "markdown",
   "source": "---",
   "metadata": {
    "cell_id": "b72afb2a-228a-402a-bb79-2472243bf61a",
    "tags": [],
    "deepnote_cell_height": 46,
    "deepnote_cell_type": "markdown"
   }
  },
  {
   "cell_type": "code",
   "metadata": {
    "cell_id": "30d2f0aa-20dd-4786-8989-64129ab2090c",
    "tags": [],
    "deepnote_cell_height": 426,
    "deepnote_cell_type": "code"
   },
   "source": "usrin = input()\n\nusrin.split('\\n')\n\nparen = 0\nerrorLines = []\nfor i in range(len(usrin)):\n    for j in usrin[i]:\n        if j == '(':\n            paren += 1\n            errorLines.append(i)\n            if errorLines[i-1] == i:\n                del errorLines[i]\n        elif j == ')':\n            paren -= 1\n            del errorLines[i]\n\nprint(\"There were %s open parentheses at the lines:\" % paren)\n\nfor i in range(len(errorLines)):\n    print(errorLines(i))",
   "execution_count": null,
   "outputs": []
  },
  {
   "cell_type": "markdown",
   "source": "## Open Parentheses Checker\nCheck how many open parentheses there are and line where they are in user input _WIP_",
   "metadata": {
    "cell_id": "9661e317-0bff-48e8-8ce6-7f467d96c01c",
    "tags": [],
    "deepnote_cell_height": 108.39999389648438,
    "deepnote_cell_type": "markdown"
   }
  },
  {
   "cell_type": "markdown",
   "source": "---",
   "metadata": {
    "cell_id": "5a93d7af-bf10-40b6-a1f1-ec9b7240781f",
    "tags": [],
    "deepnote_cell_height": 46,
    "deepnote_cell_type": "markdown"
   }
  },
  {
   "cell_type": "code",
   "metadata": {
    "cell_id": "4b2e3c42-d473-41e5-95a8-52a515620ad5",
    "tags": [],
    "deepnote_to_be_reexecuted": false,
    "source_hash": "56090555",
    "execution_start": 1644904850559,
    "execution_millis": 62886,
    "deepnote_cell_height": 1259,
    "deepnote_cell_type": "code"
   },
   "source": "import re\nimport pandas as pd\n\nword_df = pd.read_csv('~/work/atbs-py/input/valid_guesses.csv')\nsolutions_df = pd.read_csv('~/work/atbs-py/input/valid_solutions.csv')\nwords_df = pd.read_csv('~/work/atbs-py/input/20k.txt')\n\n'''\nprint(wordlist_df)\nprint(solutions_df)\nprint(words_df)\n'''\n\nwordlist = word_df.values.tolist()\n\nsim_list = []\nsimilarity = 0\nave = 0\n\nfor word in wordlist:\n    for comparedWord in wordlist:\n        for letter in word:\n            for comparedLetter in comparedWord:\n                if letter == comparedLetter:\n                    similarity += 1\n            ave += 1\n    sim_list.append(similarity/ave)\n    similarity = 0\n    ave = 0\n\nfor i in sim_list:\n    print(i)",
   "execution_count": null,
   "outputs": [
    {
     "name": "stdout",
     "text": "9.38350380031904e-05\n9.38350380031904e-05\n9.38350380031904e-05\n9.38350380031904e-05\n9.38350380031904e-05\n9.38350380031904e-05\n9.38350380031904e-05\n9.38350380031904e-05\n9.38350380031904e-05\n9.38350380031904e-05\n9.38350380031904e-05\n9.38350380031904e-05\n9.38350380031904e-05\n9.38350380031904e-05\n9.38350380031904e-05\n9.38350380031904e-05\n9.38350380031904e-05\n9.38350380031904e-05\n9.38350380031904e-05\n9.38350380031904e-05\n9.38350380031904e-05\n9.38350380031904e-05\n9.38350380031904e-05\n9.38350380031904e-05\n9.38350380031904e-05\n9.38350380031904e-05\n9.38350380031904e-05\n9.38350380031904e-05\n9.38350380031904e-05\n9.38350380031904e-05\n9.38350380031904e-05\n9.38350380031904e-05\n9.38350380031904e-05\n9.38350380031904e-05\n9.38350380031904e-05\n9.38350380031904e-05\n9.38350380031904e-05\n9.38350380031904e-05\n9.38350380031904e-05\n9.38350380031904e-05\n9.38350380031904e-05\n9.38350380031904e-05\n9.38350380031904e-05\n9.38350380031904e-05\n9.38350380031904e-05\n9.38350380031904e-05\n9.38350380031904e-05\n9.38350380031904e-05\n9.38350380031904e-05\n9.38350380031904e-05\n9.38350380031904e-05\n9.38350380031904e-05\n9.38350380031904e-05\n9.38350380031904e-05\n9.38350380031904e-05\n9.38350380031904e-05\n9.38350380031904e-05\n9.38350380031904e-05\n9.38350380031904e-05\n9.38350380031904e-05\n9.38350380031904e-05\n9.38350380031904e-05\n9.38350380031904e-05\n9.38350380031904e-05\n9.38350380031904e-05\n9.38350380031904e-05\n9.38350380031904e-05\n9.38350380031904e-05\n9.38350380031904e-05\n9.38350380031904e-05\n9.38350380031904e-05\n9.38350380031904e-05\n9.38350380031904e-05\n9.38350380031904e-05\n9.38350380031904e-05\n9.38350380031904e-05\n9.38350380031904e-05\n9.38350380031904e-05\n9.38350380031904e-05\n9.38350380031904e-05\n9.38350380031904e-05\n9.38350380031904e-05\n9.38350380031904e-05\n9.38350380031904e-05\n9.38350380031904e-05\n9.38350380031904e-05\n9.38350380031904e-05\n9.38350380031904e-05\n9.38350380031904e-05\n9.38350380031904e-05\n9.38350380031904e-05\n9.38350380031904e-05\n9.38350380031904e-05\n9.38350380031904e-05\n9.38350380031904e-05\n9.38350380031904e-05\n9.38350380031904e-05\n9.38350380031904e-05\n9.38350380031904e-05\n9.38350380031904e-05\n9.38350380031904e-05\n9.38350380031904e-05\n9.38350380031904e-05\n9.38350380031904e-05\n9.38350380031904e-05\n9.38350380031904e-05\n9.38350380031904e-05\n9.38350380031904e-05\n9.38350380031904e-05\n9.38350380031904e-05\n9.38350380031904e-05\n9.38350380031904e-05\n9.38350380031904e-05\n9.38350380031904e-05\n9.38350380031904e-05\n9.38350380031904e-05\n9.38350380031904e-05\n9.38350380031904e-05\n9.38350380031904e-05\n9.38350380031904e-05\n9.38350380031904e-05\n9.38350380031904e-05\n9.38350380031904e-05\n9.38350380031904e-05\n9.38350380031904e-05\n9.38350380031904e-05\n9.38350380031904e-05\n9.38350380031904e-05\n9.38350380031904e-05\n9.38350380031904e-05\n9.38350380031904e-05\n9.38350380031904e-05\n9.38350380031904e-05\n9.38350380031904e-05\n9.38350380031904e-05\n9.38350380031904e-05\n9.38350380031904e-05\n9.38350380031904e-05\n9.38350380031904e-05\n9.38350380031904e-05\n9.38350380031904e-05\n9.38350380031904e-05\n9.38350380031904e-05\n9.38350380031904e-05\n9.38350380031904e-05\n9.38350380031904e-05\n9.38350380031904e-05\n9.38350380031904e-05\n9.38350380031904e-05\n9.38350380031904e-05\n9.38350380031904e-05\n9.38350380031904e-05\n9.38350380031904e-05\n9.38350380031904e-05\n9.38350380031904e-05\n9.38350380031904e-05\n9.38350380031904e-05\n9.38350380031904e-05\n9.38350380031904e-05\n9.38350380031904e-05\n9.38350380031904e-05\n9.38350380031904e-05\n9.38350380031904e-05\n9.38350380031904e-05\n9.38350380031904e-05\n9.38350380031904e-05\n9.38350380031904e-05\n9.38350380031904e-05\n9.38350380031904e-05\n9.38350380031904e-05\n9.38350380031904e-05\n9.38350380031904e-05\n9.38350380031904e-05\n9.38350380031904e-05\n9.38350380031904e-05\n9.38350380031904e-05\n9.38350380031904e-05\n9.38350380031904e-05\n9.38350380031904e-05\n9.38350380031904e-05\n9.38350380031904e-05\n9.38350380031904e-05\n9.38350380031904e-05\n9.38350380031904e-05\n9.38350380031904e-05\n9.38350380031904e-05\n9.38350380031904e-05\n9.38350380031904e-05\n9.38350380031904e-05\n9.38350380031904e-05\n9.38350380031904e-05\n9.38350380031904e-05\n9.38350380031904e-05\n9.38350380031904e-05\n9.38350380031904e-05\n9.38350380031904e-05\n9.38350380031904e-05\n9.38350380031904e-05\n9.38350380031904e-05\n9.38350380031904e-05\n9.38350380031904e-05\n9.38350380031904e-05\n9.38350380031904e-05\n9.38350380031904e-05\n9.38350380031904e-05\n9.38350380031904e-05\n9.38350380031904e-05\n9.38350380031904e-05\n9.38350380031904e-05\n9.38350380031904e-05\n9.38350380031904e-05\n9.38350380031904e-05\n9.38350380031904e-05\n9.38350380031904e-05\n9.38350380031904e-05\n9.38350380031904e-05\n9.38350380031904e-05\n9.38350380031904e-05\n9.38350380031904e-05\n9.38350380031904e-05\n9.38350380031904e-05\n9.38350380031904e-05\n9.38350380031904e-05\n9.38350380031904e-05\n9.38350380031904e-05\n9.38350380031904e-05\n9.38350380031904e-05\n9.38350380031904e-05\n9.38350380031904e-05\n9.38350380031904e-05\n9.38350380031904e-05\n9.38350380031904e-05\n9.38350380031904e-05\n9.38350380031904e-05\n9.38350380031904e-05\n9.38350380031904e-05\n9.38350380031904e-05\n9.38350380031904e-05\n9.38350380031904e-05\n9.38350380031904e-05\n9.38350380031904e-05\n9.38350380031904e-05\n9.38350380031904e-05\n9.38350380031904e-05\n9.38350380031904e-05\n9.38350380031904e-05\n9.38350380031904e-05\n9.38350380031904e-05\n9.38350380031904e-05\n9.38350380031904e-05\n9.38350380031904e-05\n9.38350380031904e-05\n9.38350380031904e-05\n9.38350380031904e-05\n9.38350380031904e-05\n9.38350380031904e-05\n9.38350380031904e-05\n9.38350380031904e-05\n9.38350380031904e-05\n9.38350380031904e-05\n9.38350380031904e-05\n9.38350380031904e-05\n9.38350380031904e-05\n9.38350380031904e-05\n9.38350380031904e-05\n9.38350380031904e-05\n9.38350380031904e-05\n9.38350380031904e-05\n9.38350380031904e-05\n9.38350380031904e-05\n9.38350380031904e-05\n9.38350380031904e-05\n9.38350380031904e-05\n9.38350380031904e-05\n9.38350380031904e-05\n9.38350380031904e-05\n9.38350380031904e-05\n9.38350380031904e-05\n9.38350380031904e-05\n9.38350380031904e-05\n9.38350380031904e-05\n9.38350380031904e-05\n9.38350380031904e-05\n9.38350380031904e-05\n9.38350380031904e-05\n9.38350380031904e-05\n9.38350380031904e-05\n9.38350380031904e-05\n9.38350380031904e-05\n9.38350380031904e-05\n9.38350380031904e-05\n9.38350380031904e-05\n9.38350380031904e-05\n9.38350380031904e-05\n9.38350380031904e-05\n9.38350380031904e-05\n9.38350380031904e-05\n9.38350380031904e-05\n9.38350380031904e-05\n9.38350380031904e-05\n9.38350380031904e-05\n9.38350380031904e-05\n9.38350380031904e-05\n9.38350380031904e-05\n9.38350380031904e-05\n9.38350380031904e-05\n9.38350380031904e-05\n9.38350380031904e-05\n9.38350380031904e-05\n9.38350380031904e-05\n9.38350380031904e-05\n9.38350380031904e-05\n9.38350380031904e-05\n9.38350380031904e-05\n9.38350380031904e-05\n9.38350380031904e-05\n9.38350380031904e-05\n9.38350380031904e-05\n9.38350380031904e-05\n9.38350380031904e-05\n9.38350380031904e-05\n9.38350380031904e-05\n9.38350380031904e-05\n9.38350380031904e-05\n9.38350380031904e-05\n9.38350380031904e-05\n9.38350380031904e-05\n9.38350380031904e-05\n9.38350380031904e-05\n9.38350380031904e-05\n9.38350380031904e-05\n9.38350380031904e-05\n9.38350380031904e-05\n9.38350380031904e-05\n9.38350380031904e-05\n9.38350380031904e-05\n9.38350380031904e-05\n9.38350380031904e-05\n9.38350380031904e-05\n9.38350380031904e-05\n9.38350380031904e-05\n9.38350380031904e-05\n9.38350380031904e-05\n9.38350380031904e-05\n9.38350380031904e-05\n9.38350380031904e-05\n9.38350380031904e-05\n9.38350380031904e-05\n9.38350380031904e-05\n9.38350380031904e-05\n9.38350380031904e-05\n9.38350380031904e-05\n9.38350380031904e-05\n9.38350380031904e-05\n9.38350380031904e-05\n9.38350380031904e-05\n9.38350380031904e-05\n9.38350380031904e-05\n9.38350380031904e-05\n9.38350380031904e-05\n9.38350380031904e-05\n9.38350380031904e-05\n9.38350380031904e-05\n9.38350380031904e-05\n9.38350380031904e-05\n9.38350380031904e-05\n9.38350380031904e-05\n9.38350380031904e-05\n9.38350380031904e-05\n9.38350380031904e-05\n9.38350380031904e-05\n9.38350380031904e-05\n9.38350380031904e-05\n9.38350380031904e-05\n9.38350380031904e-05\n9.38350380031904e-05\n9.38350380031904e-05\n9.38350380031904e-05\n9.38350380031904e-05\n9.38350380031904e-05\n9.38350380031904e-05\n9.38350380031904e-05\n9.38350380031904e-05\n9.38350380031904e-05\n9.38350380031904e-05\n9.38350380031904e-05\n9.38350380031904e-05\n9.38350380031904e-05\n9.38350380031904e-05\n9.38350380031904e-05\n9.38350380031904e-05\n9.38350380031904e-05\n9.38350380031904e-05\n9.38350380031904e-05\n9.38350380031904e-05\n9.38350380031904e-05\n9.38350380031904e-05\n9.38350380031904e-05\n9.38350380031904e-05\n9.38350380031904e-05\n9.38350380031904e-05\n9.38350380031904e-05\n9.38350380031904e-05\n9.38350380031904e-05\n9.38350380031904e-05\n9.38350380031904e-05\n9.38350380031904e-05\n9.38350380031904e-05\n9.38350380031904e-05\n9.38350380031904e-05\n9.38350380031904e-05\n9.38350380031904e-05\n9.38350380031904e-05\n9.38350380031904e-05\n9.38350380031904e-05\n9.38350380031904e-05\n9.38350380031904e-05\n9.38350380031904e-05\n9.38350380031904e-05\n9.38350380031904e-05\n9.38350380031904e-05\n9.38350380031904e-05\n9.38350380031904e-05\n9.38350380031904e-05\n9.38350380031904e-05\n9.38350380031904e-05\n9.38350380031904e-05\n9.38350380031904e-05\n9.38350380031904e-05\n9.38350380031904e-05\n9.38350380031904e-05\n9.38350380031904e-05\n9.38350380031904e-05\n9.38350380031904e-05\n9.38350380031904e-05\n9.38350380031904e-05\n9.38350380031904e-05\n9.38350380031904e-05\n9.38350380031904e-05\n9.38350380031904e-05\n9.38350380031904e-05\n9.38350380031904e-05\n9.38350380031904e-05\n9.38350380031904e-05\n9.38350380031904e-05\n9.38350380031904e-05\n9.38350380031904e-05\n9.38350380031904e-05\n9.38350380031904e-05\n9.38350380031904e-05\n9.38350380031904e-05\n9.38350380031904e-05\n9.38350380031904e-05\n9.38350380031904e-05\n9.38350380031904e-05\n9.38350380031904e-05\n9.38350380031904e-05\n9.38350380031904e-05\n9.38350380031904e-05\n9.38350380031904e-05\n9.38350380031904e-05\n9.38350380031904e-05\n9.38350380031904e-05\n9.38350380031904e-05\n9.38350380031904e-05\n9.38350380031904e-05\n9.38350380031904e-05\n9.38350380031904e-05\n9.38350380031904e-05\n9.38350380031904e-05\n9.38350380031904e-05\n9.38350380031904e-05\n9.38350380031904e-05\n9.38350380031904e-05\n9.38350380031904e-05\n9.38350380031904e-05\n9.38350380031904e-05\n9.38350380031904e-05\n9.38350380031904e-05\n9.38350380031904e-05\n9.38350380031904e-05\n9.38350380031904e-05\n9.38350380031904e-05\n9.38350380031904e-05\n9.38350380031904e-05\n9.38350380031904e-05\n9.38350380031904e-05\n9.38350380031904e-05\n9.38350380031904e-05\n9.38350380031904e-05\n9.38350380031904e-05\n9.38350380031904e-05\n9.38350380031904e-05\n9.38350380031904e-05\n9.38350380031904e-05\n9.38350380031904e-05\n9.38350380031904e-05\n9.38350380031904e-05\n9.38350380031904e-05\n9.38350380031904e-05\n9.38350380031904e-05\n9.38350380031904e-05\n9.38350380031904e-05\n9.38350380031904e-05\n9.38350380031904e-05\n9.38350380031904e-05\n9.38350380031904e-05\n9.38350380031904e-05\n9.38350380031904e-05\n9.38350380031904e-05\n9.38350380031904e-05\n9.38350380031904e-05\n9.38350380031904e-05\n9.38350380031904e-05\n9.38350380031904e-05\n9.38350380031904e-05\n9.38350380031904e-05\n9.38350380031904e-05\n9.38350380031904e-05\n9.38350380031904e-05\n9.38350380031904e-05\n9.38350380031904e-05\n9.38350380031904e-05\n9.38350380031904e-05\n9.38350380031904e-05\n9.38350380031904e-05\n9.38350380031904e-05\n9.38350380031904e-05\n9.38350380031904e-05\n9.38350380031904e-05\n9.38350380031904e-05\n9.38350380031904e-05\n9.38350380031904e-05\n9.38350380031904e-05\n9.38350380031904e-05\n9.38350380031904e-05\n9.38350380031904e-05\n9.38350380031904e-05\n9.38350380031904e-05\n9.38350380031904e-05\n9.38350380031904e-05\n9.38350380031904e-05\n9.38350380031904e-05\n9.38350380031904e-05\n9.38350380031904e-05\n9.38350380031904e-05\n9.38350380031904e-05\n9.38350380031904e-05\n9.38350380031904e-05\n9.38350380031904e-05\n9.38350380031904e-05\n9.38350380031904e-05\n9.38350380031904e-05\n9.38350380031904e-05\n9.38350380031904e-05\n9.38350380031904e-05\n9.38350380031904e-05\n9.38350380031904e-05\n9.38350380031904e-05\n9.38350380031904e-05\n9.38350380031904e-05\n9.38350380031904e-05\n9.38350380031904e-05\n9.38350380031904e-05\n9.38350380031904e-05\n9.38350380031904e-05\n9.38350380031904e-05\n9.38350380031904e-05\n9.38350380031904e-05\n9.38350380031904e-05\n9.38350380031904e-05\n9.38350380031904e-05\n9.38350380031904e-05\n9.38350380031904e-05\n9.38350380031904e-05\n9.38350380031904e-05\n9.38350380031904e-05\n9.38350380031904e-05\n9.38350380031904e-05\n9.38350380031904e-05\n9.38350380031904e-05\n9.38350380031904e-05\n9.38350380031904e-05\n9.38350380031904e-05\n9.38350380031904e-05\n9.38350380031904e-05\n9.38350380031904e-05\n9.38350380031904e-05\n9.38350380031904e-05\n9.38350380031904e-05\n9.38350380031904e-05\n9.38350380031904e-05\n9.38350380031904e-05\n9.38350380031904e-05\n9.38350380031904e-05\n9.38350380031904e-05\n9.38350380031904e-05\n9.38350380031904e-05\n9.38350380031904e-05\n9.38350380031904e-05\n9.38350380031904e-05\n9.38350380031904e-05\n9.38350380031904e-05\n9.38350380031904e-05\n9.38350380031904e-05\n9.38350380031904e-05\n9.38350380031904e-05\n9.38350380031904e-05\n9.38350380031904e-05\n9.38350380031904e-05\n9.38350380031904e-05\n9.38350380031904e-05\n9.38350380031904e-05\n9.38350380031904e-05\n9.38350380031904e-05\n9.38350380031904e-05\n9.38350380031904e-05\n9.38350380031904e-05\n9.38350380031904e-05\n9.38350380031904e-05\n9.38350380031904e-05\n9.38350380031904e-05\n9.38350380031904e-05\n9.38350380031904e-05\n9.38350380031904e-05\n9.38350380031904e-05\n9.38350380031904e-05\n9.38350380031904e-05\n9.38350380031904e-05\n9.38350380031904e-05\n9.38350380031904e-05\n9.38350380031904e-05\n9.38350380031904e-05\n9.38350380031904e-05\n9.38350380031904e-05\n9.38350380031904e-05\n9.38350380031904e-05\n9.38350380031904e-05\n9.38350380031904e-05\n9.38350380031904e-05\n9.38350380031904e-05\n9.38350380031904e-05\n9.38350380031904e-05\n9.38350380031904e-05\n9.38350380031904e-05\n9.38350380031904e-05\n9.38350380031904e-05\n9.38350380031904e-05\n9.38350380031904e-05\n9.38350380031904e-05\n9.38350380031904e-05\n9.38350380031904e-05\n9.38350380031904e-05\n9.38350380031904e-05\n9.38350380031904e-05\n9.38350380031904e-05\n9.38350380031904e-05\n9.38350380031904e-05\n9.38350380031904e-05\n9.38350380031904e-05\n9.38350380031904e-05\n9.38350380031904e-05\n9.38350380031904e-05\n9.38350380031904e-05\n9.38350380031904e-05\n9.38350380031904e-05\n9.38350380031904e-05\n9.38350380031904e-05\n9.38350380031904e-05\n9.38350380031904e-05\n9.38350380031904e-05\n9.38350380031904e-05\n9.38350380031904e-05\n9.38350380031904e-05\n9.38350380031904e-05\n9.38350380031904e-05\n9.38350380031904e-05\n9.38350380031904e-05\n9.38350380031904e-05\n9.38350380031904e-05\n9.38350380031904e-05\n9.38350380031904e-05\n9.38350380031904e-05\n9.38350380031904e-05\n9.38350380031904e-05\n9.38350380031904e-05\n9.38350380031904e-05\n9.38350380031904e-05\n9.38350380031904e-05\n9.38350380031904e-05\n9.38350380031904e-05\n9.38350380031904e-05\n9.38350380031904e-05\n9.38350380031904e-05\n9.38350380031904e-05\n9.38350380031904e-05\n9.38350380031904e-05\n9.38350380031904e-05\n9.38350380031904e-05\n9.38350380031904e-05\n9.38350380031904e-05\n9.38350380031904e-05\n9.38350380031904e-05\n9.38350380031904e-05\n9.38350380031904e-05\n9.38350380031904e-05\n9.38350380031904e-05\n9.38350380031904e-05\n9.38350380031904e-05\n9.38350380031904e-05\n9.38350380031904e-05\n9.38350380031904e-05\n9.38350380031904e-05\n9.38350380031904e-05\n9.38350380031904e-05\n9.38350380031904e-05\n9.38350380031904e-05\n9.38350380031904e-05\n9.38350380031904e-05\n9.38350380031904e-05\n9.38350380031904e-05\n9.38350380031904e-05\n9.38350380031904e-05\n9.38350380031904e-05\n9.38350380031904e-05\n9.38350380031904e-05\n9.38350380031904e-05\n9.38350380031904e-05\n9.38350380031904e-05\n9.38350380031904e-05\n9.38350380031904e-05\n9.38350380031904e-05\n9.38350380031904e-05\n9.38350380031904e-05\n9.38350380031904e-05\n9.38350380031904e-05\n9.38350380031904e-05\n9.38350380031904e-05\n9.38350380031904e-05\n9.38350380031904e-05\n9.38350380031904e-05\n9.38350380031904e-05\n9.38350380031904e-05\n9.38350380031904e-05\n9.38350380031904e-05\n9.38350380031904e-05\n9.38350380031904e-05\n9.38350380031904e-05\n9.38350380031904e-05\n9.38350380031904e-05\n9.38350380031904e-05\n9.38350380031904e-05\n9.38350380031904e-05\n9.38350380031904e-05\n9.38350380031904e-05\n9.38350380031904e-05\n9.38350380031904e-05\n9.38350380031904e-05\n9.38350380031904e-05\n9.38350380031904e-05\n9.38350380031904e-05\n9.38350380031904e-05\n9.38350380031904e-05\n9.38350380031904e-05\n9.38350380031904e-05\n9.38350380031904e-05\n9.38350380031904e-05\n9.38350380031904e-05\n9.38350380031904e-05\n9.38350380031904e-05\n9.38350380031904e-05\n9.38350380031904e-05\n9.38350380031904e-05\n9.38350380031904e-05\n9.38350380031904e-05\n9.38350380031904e-05\n9.38350380031904e-05\n9.38350380031904e-05\n9.38350380031904e-05\n9.38350380031904e-05\n9.38350380031904e-05\n9.38350380031904e-05\n9.38350380031904e-05\n9.38350380031904e-05\n9.38350380031904e-05\n9.38350380031904e-05\n9.38350380031904e-05\n9.38350380031904e-05\n9.38350380031904e-05\n9.38350380031904e-05\n9.38350380031904e-05\n9.38350380031904e-05\n9.38350380031904e-05\n9.38350380031904e-05\n9.38350380031904e-05\n9.38350380031904e-05\n9.38350380031904e-05\n9.38350380031904e-05\n9.38350380031904e-05\n9.38350380031904e-05\n9.38350380031904e-05\n9.38350380031904e-05\n9.38350380031904e-05\n9.38350380031904e-05\n9.38350380031904e-05\n9.38350380031904e-05\n9.38350380031904e-05\n9.38350380031904e-05\n9.38350380031904e-05\n9.38350380031904e-05\n9.38350380031904e-05\n9.38350380031904e-05\n9.38350380031904e-05\n9.38350380031904e-05\n9.38350380031904e-05\n9.38350380031904e-05\n9.38350380031904e-05\n9.38350380031904e-05\n9.38350380031904e-05\n9.38350380031904e-05\n9.38350380031904e-05\n9.38350380031904e-05\n9.38350380031904e-05\n9.38350380031904e-05\n9.38350380031904e-05\n9.38350380031904e-05\n9.38350380031904e-05\n9.38350380031904e-05\n9.38350380031904e-05\n9.38350380031904e-05\n9.38350380031904e-05\n9.38350380031904e-05\n9.38350380031904e-05\n9.38350380031904e-05\n9.38350380031904e-05\n9.38350380031904e-05\n9.38350380031904e-05\n9.38350380031904e-05\n9.38350380031904e-05\n9.38350380031904e-05\n9.38350380031904e-05\n9.38350380031904e-05\n9.38350380031904e-05\n9.38350380031904e-05\n9.38350380031904e-05\n9.38350380031904e-05\n9.38350380031904e-05\n9.38350380031904e-05\n9.38350380031904e-05\n9.38350380031904e-05\n9.38350380031904e-05\n9.38350380031904e-05\n9.38350380031904e-05\n9.38350380031904e-05\n9.38350380031904e-05\n9.38350380031904e-05\n9.38350380031904e-05\n9.38350380031904e-05\n9.38350380031904e-05\n9.38350380031904e-05\n9.38350380031904e-05\n9.38350380031904e-05\n9.38350380031904e-05\n9.38350380031904e-05\n9.38350380031904e-05\n9.38350380031904e-05\n9.38350380031904e-05\n9.38350380031904e-05\n9.38350380031904e-05\n9.38350380031904e-05\n9.38350380031904e-05\n9.38350380031904e-05\n9.38350380031904e-05\n9.38350380031904e-05\n9.38350380031904e-05\n9.38350380031904e-05\n9.38350380031904e-05\n9.38350380031904e-05\n9.38350380031904e-05\n9.38350380031904e-05\n9.38350380031904e-05\n9.38350380031904e-05\n9.38350380031904e-05\n9.38350380031904e-05\n9.38350380031904e-05\n9.38350380031904e-05\n9.38350380031904e-05\n9.38350380031904e-05\n9.38350380031904e-05\n9.38350380031904e-05\n9.38350380031904e-05\n9.38350380031904e-05\n9.38350380031904e-05\n9.38350380031904e-05\n9.38350380031904e-05\n9.38350380031904e-05\n9.38350380031904e-05\n9.38350380031904e-05\n9.38350380031904e-05\n9.38350380031904e-05\n9.38350380031904e-05\n9.38350380031904e-05\n9.38350380031904e-05\n9.38350380031904e-05\n9.38350380031904e-05\n9.38350380031904e-05\n9.38350380031904e-05\n9.38350380031904e-05\n9.38350380031904e-05\n9.38350380031904e-05\n9.38350380031904e-05\n9.38350380031904e-05\n9.38350380031904e-05\n9.38350380031904e-05\n9.38350380031904e-05\n9.38350380031904e-05\n9.38350380031904e-05\n9.38350380031904e-05\n9.38350380031904e-05\n9.38350380031904e-05\n9.38350380031904e-05\n9.38350380031904e-05\n9.38350380031904e-05\n9.38350380031904e-05\n9.38350380031904e-05\n9.38350380031904e-05\n9.38350380031904e-05\n9.38350380031904e-05\n9.38350380031904e-05\n9.38350380031904e-05\n9.38350380031904e-05\n9.38350380031904e-05\n9.38350380031904e-05\n9.38350380031904e-05\n9.38350380031904e-05\n9.38350380031904e-05\n9.38350380031904e-05\n9.38350380031904e-05\n9.38350380031904e-05\n9.38350380031904e-05\n9.38350380031904e-05\n9.38350380031904e-05\n9.38350380031904e-05\n9.38350380031904e-05\n9.38350380031904e-05\n9.38350380031904e-05\n9.38350380031904e-05\n9.38350380031904e-05\n9.38350380031904e-05\n9.38350380031904e-05\n9.38350380031904e-05\n9.38350380031904e-05\n9.38350380031904e-05\n9.38350380031904e-05\n9.38350380031904e-05\n9.38350380031904e-05\n9.38350380031904e-05\n9.38350380031904e-05\n9.38350380031904e-05\n9.38350380031904e-05\n9.38350380031904e-05\n9.38350380031904e-05\n9.38350380031904e-05\n9.38350380031904e-05\n9.38350380031904e-05\n9.38350380031904e-05\n9.38350380031904e-05\n9.38350380031904e-05\n9.38350380031904e-05\n9.38350380031904e-05\n9.38350380031904e-05\n9.38350380031904e-05\n9.38350380031904e-05\n9.38350380031904e-05\n9.38350380031904e-05\n9.38350380031904e-05\n9.38350380031904e-05\n9.38350380031904e-05\n9.38350380031904e-05\n9.38350380031904e-05\n9.38350380031904e-05\n9.38350380031904e-05\n9.38350380031904e-05\n9.38350380031904e-05\n9.38350380031904e-05\n9.38350380031904e-05\n9.38350380031904e-05\n9.38350380031904e-05\n9.38350380031904e-05\n9.38350380031904e-05\n9.38350380031904e-05\n9.38350380031904e-05\n9.38350380031904e-05\n9.38350380031904e-05\n9.38350380031904e-05\n9.38350380031904e-05\n9.38350380031904e-05\n9.38350380031904e-05\n9.38350380031904e-05\n",
     "output_type": "stream"
    }
   ]
  },
  {
   "cell_type": "markdown",
   "source": "## Word Similarity\nProgram that loops through every single letter in character list and compares it to all the other letters in the character list. The resultant value is a list of similarity scores for each word.",
   "metadata": {
    "cell_id": "29c01419-9543-48a4-b882-27cd25ba5303",
    "tags": [],
    "deepnote_cell_height": 108.39999389648438,
    "deepnote_cell_type": "markdown"
   }
  },
  {
   "cell_type": "markdown",
   "source": "---",
   "metadata": {
    "cell_id": "d59819a3-6f25-4774-ad56-85506a8a3cb7",
    "tags": [],
    "deepnote_cell_height": 46,
    "deepnote_cell_type": "markdown"
   }
  },
  {
   "cell_type": "code",
   "metadata": {
    "cell_id": "823fd0ea-7317-467c-b255-a7e3e13eb7c1",
    "tags": [],
    "deepnote_to_be_reexecuted": false,
    "source_hash": "cd7ae063",
    "execution_start": 1645202538558,
    "execution_millis": 16812,
    "deepnote_cell_height": 792.4000244140625,
    "deepnote_cell_type": "code"
   },
   "source": "import pandas as pd\n\nword_df = pd.read_csv('~/work/atbs-py/input/valid_guesses.csv')\nsolutions_df = pd.read_csv('~/work/atbs-py/input/valid_solutions.csv')\nwords_df = pd.read_csv('~/work/atbs-py/input/20k.txt')\n\nwordlist = word_df.values.tolist()\nsolutions = solutions_df.values.tolist()\n\ndef scorer(word, solution):\n  c = 0\n  score = 0\n  for letter in word:\n    if word[c] == solution[c]:\n      score += 2\n      solution = solution.replace(solution[c], \"*\")\n    else:\n      if letter in solution:\n        score += 1\n        word = word.replace(letter, \"_\")\n    c += 1\n  return score\n\nprint(scorer(\"loops\", \"olopj\"))\n\ni = 0\nscores = {}\nfor opener in wordlist:\n  for comparedWord in solutions:\n    scores.setdefault(\"%s & %s\" % (opener, comparedWord), 0)\n\nprint(scores)",
   "execution_count": null,
   "outputs": [
    {
     "name": "stdout",
     "text": "5\n",
     "output_type": "stream"
    },
    {
     "output_type": "error",
     "ename": "KernelInterrupted",
     "evalue": "Execution interrupted by the Jupyter kernel.",
     "traceback": [
      "\u001b[0;31m---------------------------------------------------------------------------\u001b[0m",
      "\u001b[0;31mKernelInterrupted\u001b[0m: Execution interrupted by the Jupyter kernel."
     ]
    }
   ]
  },
  {
   "cell_type": "markdown",
   "source": "<a style='text-decoration:none;line-height:16px;display:flex;color:#5B5B62;padding:10px;justify-content:end;' href='https://deepnote.com?utm_source=created-in-deepnote-cell&projectId=9f84e2f7-0a97-4ea3-a178-8c4b3ca2a61a' target=\"_blank\">\n<img alt='Created in deepnote.com' style='display:inline;max-height:16px;margin:0px;margin-right:7.5px;' src='data:image/svg+xml;base64,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' > </img>\nCreated in <span style='font-weight:600;margin-left:4px;'>Deepnote</span></a>",
   "metadata": {
    "tags": [],
    "created_in_deepnote_cell": true,
    "deepnote_cell_type": "markdown"
   }
  }
 ],
 "nbformat": 4,
 "nbformat_minor": 2,
 "metadata": {
  "orig_nbformat": 2,
  "deepnote": {
   "is_reactive": false
  },
  "deepnote_notebook_id": "b5f10d56-44c7-47cb-b900-30e5ed5f9540",
  "deepnote_execution_queue": []
 }
}